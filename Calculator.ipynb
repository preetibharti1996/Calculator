{
 "cells": [
  {
   "cell_type": "code",
   "execution_count": null,
   "id": "6423e37d",
   "metadata": {},
   "outputs": [
    {
     "name": "stdout",
     "output_type": "stream",
     "text": [
      "1 Addition\n",
      "2 Subtraction\n",
      "3 Multiplication\n",
      "4 Division\n",
      "Enter q or Q to Exit\n",
      "Enter your choice:5\n",
      "Enter 1st Number:23\n",
      "Enter 2nd Number:5\n",
      "Invalid choice!\n",
      "1 Addition\n",
      "2 Subtraction\n",
      "3 Multiplication\n",
      "4 Division\n",
      "Enter q or Q to Exit\n"
     ]
    }
   ],
   "source": [
    "while True:\n",
    "    print(\"1 Addition\")\n",
    "    print(\"2 Subtraction\")\n",
    "    print(\"3 Multiplication\")\n",
    "    print(\"4 Division\")\n",
    "    print(\"Enter q or Q to Exit\")\n",
    "    choice = input(\"Enter your choice:\")\n",
    "    if choice == 'q' or choice =='Q':\n",
    "        break\n",
    "    num1 = float(input(\"Enter 1st Number:\") ) \n",
    "    num2 = float(input(\"Enter 2nd Number:\") ) \n",
    "    if choice == \"1\":\n",
    "        print(num1,\"+\",num2,\"=\",(num1+num2))\n",
    "    elif choice == \"2\":\n",
    "        print(num1,\"-\",num2,\"=\",(num1-num2))\n",
    "    elif choice == \"3\":\n",
    "        print(num1,\"*\",num2,\"=\",(num1*num2)) \n",
    "    elif choice == \"4\":\n",
    "        if num2 == 0.0:\n",
    "            print(\"Devide by Zero Error\")\n",
    "        else:    \n",
    "            print(num1,\"/\",num2,\"=\",(num1/num2))\n",
    "    else:\n",
    "        print(\"Invalid choice!\")"
   ]
  },
  {
   "cell_type": "code",
   "execution_count": null,
   "id": "14560501",
   "metadata": {},
   "outputs": [],
   "source": []
  }
 ],
 "metadata": {
  "kernelspec": {
   "display_name": "Python 3 (ipykernel)",
   "language": "python",
   "name": "python3"
  },
  "language_info": {
   "codemirror_mode": {
    "name": "ipython",
    "version": 3
   },
   "file_extension": ".py",
   "mimetype": "text/x-python",
   "name": "python",
   "nbconvert_exporter": "python",
   "pygments_lexer": "ipython3",
   "version": "3.9.7"
  }
 },
 "nbformat": 4,
 "nbformat_minor": 5
}
